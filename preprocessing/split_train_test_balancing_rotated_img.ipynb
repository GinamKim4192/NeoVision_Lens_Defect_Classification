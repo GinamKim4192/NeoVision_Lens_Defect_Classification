{
 "cells": [
  {
   "cell_type": "code",
   "execution_count": 1,
   "metadata": {
    "collapsed": true
   },
   "outputs": [],
   "source": [
    "import os\n",
    "import shutil"
   ]
  },
  {
   "cell_type": "code",
   "execution_count": 2,
   "outputs": [],
   "source": [
    "def train_test_split_balance_rotated(current_directory, destination_directory, rotate_unit, test_size=0.2):\n",
    "    print(current_directory[0:159])\n",
    "    rotate_per_img = 359 // rotate_unit\n",
    "    dir_files_count = len(os.listdir(current_directory))\n",
    "    per_img_by_rotation =   dir_files_count // rotate_per_img\n",
    "    test_count = int(per_img_by_rotation * test_size)\n",
    "    numberth = 0\n",
    "    for i in range(rotate_per_img):\n",
    "        save_test_list = os.listdir(current_directory)[per_img_by_rotation * numberth:per_img_by_rotation * numberth + test_count]\n",
    "        numberth += 1\n",
    "        for j in save_test_list:\n",
    "            shutil.move(f'{current_directory}/{j}', f'{destination_directory}/{j}')"
   ],
   "metadata": {
    "collapsed": false,
    "pycharm": {
     "name": "#%%\n"
    }
   }
  },
  {
   "cell_type": "code",
   "execution_count": 5,
   "outputs": [
    {
     "name": "stdout",
     "output_type": "stream",
     "text": [
      "C:/Users/user/OneDrive/바탕 화면/Server/model/model_images/DA4649_rotate/train/5_inkcut_rotate_per15\n"
     ]
    }
   ],
   "source": [
    "train_test_split_balance_rotated('C:/Users/user/OneDrive/바탕 화면/Server/model/model_images/DA4649_rotate/train/5_inkcut_rotate_per15',\n",
    "                         'C:/Users/user/OneDrive/바탕 화면/Server/model/model_images/DA4649_rotate/test/5_inkcut_rotate_per15',\n",
    "                         rotate_unit = 15, test_size = 0.2\n",
    "                         )"
   ],
   "metadata": {
    "collapsed": false,
    "pycharm": {
     "name": "#%%\n"
    }
   }
  },
  {
   "cell_type": "code",
   "execution_count": null,
   "outputs": [],
   "source": [],
   "metadata": {
    "collapsed": false,
    "pycharm": {
     "name": "#%%\n"
    }
   }
  }
 ],
 "metadata": {
  "kernelspec": {
   "display_name": "Python 3",
   "language": "python",
   "name": "python3"
  },
  "language_info": {
   "codemirror_mode": {
    "name": "ipython",
    "version": 2
   },
   "file_extension": ".py",
   "mimetype": "text/x-python",
   "name": "python",
   "nbconvert_exporter": "python",
   "pygments_lexer": "ipython2",
   "version": "2.7.6"
  }
 },
 "nbformat": 4,
 "nbformat_minor": 0
}