{
 "cells": [
  {
   "cell_type": "code",
   "execution_count": 5,
   "metadata": {
    "collapsed": true
   },
   "outputs": [],
   "source": [
    "import cv2\n",
    "import numpy as np\n",
    "import os\n",
    "import matplotlib.pyplot as plt\n",
    "from tqdm import tqdm"
   ]
  },
  {
   "cell_type": "code",
   "execution_count": 9,
   "outputs": [
    {
     "name": "stderr",
     "output_type": "stream",
     "text": [
      "100%|██████████| 397/397 [00:21<00:00, 18.23it/s]\n"
     ]
    }
   ],
   "source": [
    "center_list = './model_images/DA4649/2_center'\n",
    "colorpoor_list = './model_images/DA4649/3_colorpoor'\n",
    "dotmissing_list = './model_images/DA4649/4_dotmissing'\n",
    "inkcut_list = './model_images/DA4649/5_inkcut'\n",
    "line_list = './model_images/DA4649/6_line'\n",
    "\n",
    "current_directory = center_list\n",
    "destination_directory = './model_images/DA4649_rotate/train/2_center_rotate_per30'\n",
    "rotate_min = 0\n",
    "rotate_max = 359\n",
    "rotate_per = 30\n",
    "def train_test_split_balance(current_directory, destination_directory, rotate_per, rotate_min = 0, rotate_max = 359)\n",
    "    files_list = os.listdir(current_directory)\n",
    "    for i in tqdm(files_list):\n",
    "        img = cv2.imread(f'{current_directory}/{i}')\n",
    "        for j in range(rotate_min, rotate_max, rotate_per):\n",
    "            h, w = img.shape[:2]\n",
    "            cX, cY = (w/2, h/2)\n",
    "            M = cv2.getRotationMatrix2D((cX, cY), j, 1.0)\n",
    "            rotate = cv2.warpAffine(img, M, (w,h))\n",
    "            cv2.imwrite(f'{destination_directory}/{j}_{i}', rotate)"
   ],
   "metadata": {
    "collapsed": false,
    "pycharm": {
     "name": "#%%\n"
    }
   }
  },
  {
   "cell_type": "markdown",
   "source": [],
   "metadata": {
    "collapsed": false
   }
  },
  {
   "cell_type": "code",
   "execution_count": null,
   "outputs": [],
   "source": [
    "center_list = './model_images/DA4649/2_center'\n",
    "colorpoor_list = './model_images/DA4649/3_colorpoor'\n",
    "dotmissing_list = './model_images/DA4649/4_dotmissing'\n",
    "inkcut_list = './model_images/DA4649/5_inkcut'\n",
    "line_list = './model_images/DA4649/6_line'\n",
    "\n",
    "current_directory = center_list\n",
    "destination_directory = './model_images/DA4649_rotate/train/2_center_rotate_per30'\n",
    "rotate_min = 0\n",
    "rotate_max = 359\n",
    "rotate_per = 30\n",
    "\n",
    "train_test_split_balance(current_directory=current_directory, destination_directory=destination_directory,\n",
    "                         rotate_per=30, rotate_min=0, rotate_max=359)"
   ],
   "metadata": {
    "collapsed": false,
    "pycharm": {
     "name": "#%%\n"
    }
   }
  }
 ],
 "metadata": {
  "kernelspec": {
   "display_name": "Python 3",
   "language": "python",
   "name": "python3"
  },
  "language_info": {
   "codemirror_mode": {
    "name": "ipython",
    "version": 2
   },
   "file_extension": ".py",
   "mimetype": "text/x-python",
   "name": "python",
   "nbconvert_exporter": "python",
   "pygments_lexer": "ipython2",
   "version": "2.7.6"
  }
 },
 "nbformat": 4,
 "nbformat_minor": 0
}