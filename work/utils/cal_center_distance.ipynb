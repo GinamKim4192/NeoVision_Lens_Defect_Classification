{
 "cells": [
  {
   "cell_type": "code",
   "execution_count": 7,
   "outputs": [],
   "source": [
    "import cv2\n",
    "import numpy as np\n",
    "import math\n",
    "import os\n",
    "import shutil\n",
    "from IPython.display import display, clear_output\n",
    "from numba import jit\n",
    "import time\n",
    "from tqdm import tqdm\n",
    "import matplotlib.pyplot as plt"
   ],
   "metadata": {
    "collapsed": false,
    "pycharm": {
     "name": "#%%\n"
    }
   }
  },
  {
   "cell_type": "code",
   "execution_count": 10,
   "outputs": [],
   "source": [
    "# @jit()\n",
    "def get_Hashsample():\n",
    "    #해시매핑을 위한 기준 이미지입니다. 필요함!!\n",
    "    sample_img = np.zeros((50,50))\n",
    "    sample_img = cv2.circle(sample_img, (sample_img.shape[0] //2, sample_img.shape[1] //2), radius=21, color=255, thickness=-1)\n",
    "    sample_img = cv2.circle(sample_img, (sample_img.shape[0] //2, sample_img.shape[1] //2), radius=14, color=0, thickness=-1)\n",
    "    return sample_img\n",
    "sample_img = get_Hashsample()\n",
    "\n",
    "# @jit()\n",
    "def find_colorAlignment(img, K, show_one_label=True, blur_count=6, hash_true_condition=0.8):\n",
    "    recycle_condition = True\n",
    "    original_image = img.copy()\n",
    "\n",
    "    blr = cv2.GaussianBlur(original_image, (0, 0), round(blur_count))  #블러처리\n",
    "    img2 = cv2.cvtColor(blr, cv2.COLOR_BGR2HSV)  #색상변환.\n",
    "\n",
    "    vectorized = img2.reshape((-1, 3))  #색상rgb 벡터화\n",
    "    vectorized = np.float32(vectorized)\n",
    "    criteria = (cv2.TERM_CRITERIA_EPS + cv2.TERM_CRITERIA_MAX_ITER, 10, 1.0)  #알고리즘을 멈출조건 (EPS : 0.1=정확도, ITER: 10 = 반복횟수)\n",
    "    attempts = 7  #시도횟수. 횟수의 결과중 최적의 밀집도가 결과로 나옴\n",
    "    _, label, _ = cv2.kmeans(vectorized, K, None, criteria, attempts, cv2.KMEANS_PP_CENTERS)\n",
    "\n",
    "    sample_hash_resize = sample_img\n",
    "    sample_hash_avg = sample_hash_resize.mean()\n",
    "    sample_hash = (sample_hash_resize > sample_hash_avg)\n",
    "\n",
    "    for i in range(K):\n",
    "        center1 = np.uint8([[0] * 3 for n in range(K)])  #전체레이블의 중심값을 0,0,0으로 만들어놓음\n",
    "        selceted_label = label.copy()\n",
    "        sss = selceted_label.flatten()\n",
    "        if show_one_label:\n",
    "            ss = np.where(sss != i, 0, sss)\n",
    "            center1[i] = [255, 255, 255]  #i 레이블을 255,255,255로 만듬 -> 영역을 contour로 잡기위함\n",
    "        else:\n",
    "            ss = sss\n",
    "        res = center1[ss]\n",
    "        result_image = res.reshape((original_image.shape))\n",
    "        # 해쉬매칭\n",
    "        resize_shape = (50, 50)\n",
    "        resize_reshape = resize_shape[0] * resize_shape[1]\n",
    "        hash_true_ratio = resize_reshape * hash_true_condition\n",
    "\n",
    "        hash_img = result_image[:,:,1]\n",
    "        img_resize = cv2.resize(hash_img, dsize=resize_shape)\n",
    "        img_avg = img_resize.mean()\n",
    "        img_hash = (img_resize > img_avg)\n",
    "\n",
    "        hash_match = sample_hash == img_hash\n",
    "        hash_bincount = np.bincount(hash_match.reshape(-1))\n",
    "        # print(\"해시조건\",hash_true_ratio)\n",
    "        # print(\"샘플\",hash_bincount[1])\n",
    "        # print(\"평균밝기\",result_image.mean())\n",
    "        # 해쉬매칭 조건에 맞을 시 저장, 아닐 시 함수 반복\n",
    "        if hash_bincount[1] < hash_true_ratio:\n",
    "            continue\n",
    "        else:\n",
    "            # if result_image.mean() > 80.:\n",
    "            if False:\n",
    "                # print(result_image.mean())\n",
    "                continue\n",
    "            else:\n",
    "                c_contour, _ = cv2.findContours\\\n",
    "                    (result_image[:,:,1].astype('uint8'), cv2.RETR_LIST, cv2.CHAIN_APPROX_SIMPLE)\n",
    "                if len(c_contour) > 0:\n",
    "                    contours_cirles=[]\n",
    "                    for con in c_contour:\n",
    "                        area = cv2.contourArea(con)\n",
    "                        areaRatio = area/(result_image.shape[0]*result_image.shape[1])\n",
    "                        if 0.4 < areaRatio < 0.6:\n",
    "                            # print('areaRatio',areaRatio)\n",
    "                            contours_cirles.append(con)\n",
    "                    if len(contours_cirles) == 0:\n",
    "                        continue\n",
    "                    else:\n",
    "                        recycle_condition = False\n",
    "                        x,y,w,h = cv2.boundingRect(contours_cirles[0])\n",
    "                        x_loc = x+w*0.5\n",
    "                        y_loc = y+h*0.5\n",
    "                        error_distance =math.sqrt((original_image.shape[1]/2 - (x+w*0.5))**2 + (original_image.shape[0]/2 - (y+h*0.5))**2)\n",
    "                        # plt.figure(figsize=(8, 8))\n",
    "                        # plt.imshow(result_image, cmap='gray')\n",
    "                        # plt.show()\n",
    "                        return error_distance, x_loc, y_loc, (w+h)/4\n",
    "\n",
    "    if recycle_condition:\n",
    "        # print(\"cannot find Retry\")\n",
    "        hash_true_condition -= 0.01\n",
    "        blur_count  *= 1.03\n",
    "        return find_colorAlignment(img, K, True, blur_count, hash_true_condition)"
   ],
   "metadata": {
    "collapsed": false,
    "pycharm": {
     "name": "#%%\n"
    }
   }
  },
  {
   "cell_type": "code",
   "execution_count": null,
   "outputs": [],
   "source": [
    "# 업체측에서는 center가 0.5mm빗나가면 오류라고 판단.\n",
    "# 렌즈의 원래 지름은 21mm\n",
    "# 이미지 크기는 820px\n",
    "# 820 : 21 = x : 0.5\n",
    "# x = 19.5       >> 19.5px 이상일 경우 center불량\n",
    "\n",
    "current_directory = './model_images/DA4649/2_center'\n",
    "destination_directory = './model_images/DA4649_rotate/train/normal_center'\n",
    "img_list = os.listdir(current_directory)\n",
    "total = len(img_list)\n",
    "labeled = 0\n",
    "center_count = 0\n",
    "line_count = 0\n",
    "normal_count = 0\n",
    "for i in img_list:\n",
    "    # st = time.time()\n",
    "    img = cv2.imread(f'{current_directory}/{i}')\n",
    "    distance,_,_,_ = find_colorAlignment(img, 7, show_one_label=True, blur_count=6, hash_true_condition=0.7)\n",
    "    # print(distance, i, time.time() - st)\n",
    "    if distance >= 10.0 and distance < 19.5: # center불량은 아니지만, line불량일 가능성이 있음.\n",
    "        shutil.copy(f'{current_directory}/{i}',\n",
    "                    f'{destination_directory}/center_to_line/{i}')\n",
    "        line_count += 1\n",
    "        labeled += 1\n",
    "    elif distance >= 19.5: # center불량 검출\n",
    "        shutil.copy(f'{current_directory}/{i}',\n",
    "                    f'{destination_directory}/center_to_center/{i}')\n",
    "        center_count += 1\n",
    "        labeled += 1\n",
    "    else: # normal\n",
    "        shutil.copy(f'{current_directory}/{i}',\n",
    "                    f'{destination_directory}/center_to_normal/{i}')\n",
    "        normal_count += 1\n",
    "        labeled += 1\n",
    "\n",
    "\n",
    "    clear_output(wait=True)\n",
    "    print(f'{labeled}/{total}')\n",
    "    print(f'normal : {normal_count}')\n",
    "    print(f'line   : {line_count}')\n",
    "    print(f'center : {center_count}')"
   ],
   "metadata": {
    "collapsed": false,
    "pycharm": {
     "name": "#%%\n"
    }
   }
  },
  {
   "cell_type": "code",
   "execution_count": 11,
   "outputs": [
    {
     "name": "stdout",
     "output_type": "stream",
     "text": [
      "2.0943965911865234\n",
      "2.1402769088745117\n",
      "0.528588056564331\n",
      "0.5624959468841553\n",
      "0.49268007278442383\n",
      "0.46276235580444336\n",
      "0.4637625217437744\n",
      "0.5016555786132812\n"
     ]
    },
    {
     "ename": "KeyboardInterrupt",
     "evalue": "",
     "output_type": "error",
     "traceback": [
      "\u001B[1;31m---------------------------------------------------------------------------\u001B[0m",
      "\u001B[1;31mKeyboardInterrupt\u001B[0m                         Traceback (most recent call last)",
      "\u001B[1;32m~\\AppData\\Local\\Temp\\ipykernel_13728\\4051249778.py\u001B[0m in \u001B[0;36m<module>\u001B[1;34m\u001B[0m\n\u001B[0;32m     10\u001B[0m     \u001B[0mst\u001B[0m \u001B[1;33m=\u001B[0m \u001B[0mtime\u001B[0m\u001B[1;33m.\u001B[0m\u001B[0mtime\u001B[0m\u001B[1;33m(\u001B[0m\u001B[1;33m)\u001B[0m\u001B[1;33m\u001B[0m\u001B[0m\n\u001B[0;32m     11\u001B[0m     \u001B[0mimg\u001B[0m \u001B[1;33m=\u001B[0m \u001B[0mcv2\u001B[0m\u001B[1;33m.\u001B[0m\u001B[0mimread\u001B[0m\u001B[1;33m(\u001B[0m\u001B[1;34mf'{current_directory}/{i}'\u001B[0m\u001B[1;33m)\u001B[0m\u001B[1;33m\u001B[0m\u001B[0m\n\u001B[1;32m---> 12\u001B[1;33m     \u001B[0mdistance\u001B[0m\u001B[1;33m,\u001B[0m\u001B[0m_\u001B[0m\u001B[1;33m,\u001B[0m\u001B[0m_\u001B[0m\u001B[1;33m,\u001B[0m\u001B[0m_\u001B[0m \u001B[1;33m=\u001B[0m \u001B[0mfind_colorAlignment\u001B[0m\u001B[1;33m(\u001B[0m\u001B[0mimg\u001B[0m\u001B[1;33m,\u001B[0m \u001B[1;36m7\u001B[0m\u001B[1;33m,\u001B[0m \u001B[0mshow_one_label\u001B[0m\u001B[1;33m=\u001B[0m\u001B[1;32mTrue\u001B[0m\u001B[1;33m,\u001B[0m \u001B[0mblur_count\u001B[0m\u001B[1;33m=\u001B[0m\u001B[1;36m6\u001B[0m\u001B[1;33m,\u001B[0m \u001B[0mhash_true_condition\u001B[0m\u001B[1;33m=\u001B[0m\u001B[1;36m0.7\u001B[0m\u001B[1;33m)\u001B[0m\u001B[1;33m\u001B[0m\u001B[0m\n\u001B[0m\u001B[0;32m     13\u001B[0m     \u001B[0mprint\u001B[0m\u001B[1;33m(\u001B[0m\u001B[0mtime\u001B[0m\u001B[1;33m.\u001B[0m\u001B[0mtime\u001B[0m\u001B[1;33m(\u001B[0m\u001B[1;33m)\u001B[0m\u001B[1;33m-\u001B[0m\u001B[0mst\u001B[0m\u001B[1;33m)\u001B[0m\u001B[1;33m\u001B[0m\u001B[0m\n",
      "\u001B[1;32m~\\AppData\\Local\\Temp\\ipykernel_13728\\2008043013.py\u001B[0m in \u001B[0;36mfind_colorAlignment\u001B[1;34m(img, K, show_one_label, blur_count, hash_true_condition)\u001B[0m\n\u001B[0;32m     88\u001B[0m         \u001B[0mhash_true_condition\u001B[0m \u001B[1;33m-=\u001B[0m \u001B[1;36m0.01\u001B[0m\u001B[1;33m\u001B[0m\u001B[0m\n\u001B[0;32m     89\u001B[0m         \u001B[0mblur_count\u001B[0m  \u001B[1;33m*=\u001B[0m \u001B[1;36m1.03\u001B[0m\u001B[1;33m\u001B[0m\u001B[0m\n\u001B[1;32m---> 90\u001B[1;33m         \u001B[1;32mreturn\u001B[0m \u001B[0mfind_colorAlignment\u001B[0m\u001B[1;33m(\u001B[0m\u001B[0mimg\u001B[0m\u001B[1;33m,\u001B[0m \u001B[0mK\u001B[0m\u001B[1;33m,\u001B[0m \u001B[1;32mTrue\u001B[0m\u001B[1;33m,\u001B[0m \u001B[0mblur_count\u001B[0m\u001B[1;33m,\u001B[0m \u001B[0mhash_true_condition\u001B[0m\u001B[1;33m)\u001B[0m\u001B[1;33m\u001B[0m\u001B[0m\n\u001B[0m",
      "\u001B[1;32m~\\AppData\\Local\\Temp\\ipykernel_13728\\2008043013.py\u001B[0m in \u001B[0;36mfind_colorAlignment\u001B[1;34m(img, K, show_one_label, blur_count, hash_true_condition)\u001B[0m\n\u001B[0;32m     88\u001B[0m         \u001B[0mhash_true_condition\u001B[0m \u001B[1;33m-=\u001B[0m \u001B[1;36m0.01\u001B[0m\u001B[1;33m\u001B[0m\u001B[0m\n\u001B[0;32m     89\u001B[0m         \u001B[0mblur_count\u001B[0m  \u001B[1;33m*=\u001B[0m \u001B[1;36m1.03\u001B[0m\u001B[1;33m\u001B[0m\u001B[0m\n\u001B[1;32m---> 90\u001B[1;33m         \u001B[1;32mreturn\u001B[0m \u001B[0mfind_colorAlignment\u001B[0m\u001B[1;33m(\u001B[0m\u001B[0mimg\u001B[0m\u001B[1;33m,\u001B[0m \u001B[0mK\u001B[0m\u001B[1;33m,\u001B[0m \u001B[1;32mTrue\u001B[0m\u001B[1;33m,\u001B[0m \u001B[0mblur_count\u001B[0m\u001B[1;33m,\u001B[0m \u001B[0mhash_true_condition\u001B[0m\u001B[1;33m)\u001B[0m\u001B[1;33m\u001B[0m\u001B[0m\n\u001B[0m",
      "\u001B[1;32m~\\AppData\\Local\\Temp\\ipykernel_13728\\2008043013.py\u001B[0m in \u001B[0;36mfind_colorAlignment\u001B[1;34m(img, K, show_one_label, blur_count, hash_true_condition)\u001B[0m\n\u001B[0;32m     20\u001B[0m     \u001B[0mcriteria\u001B[0m \u001B[1;33m=\u001B[0m \u001B[1;33m(\u001B[0m\u001B[0mcv2\u001B[0m\u001B[1;33m.\u001B[0m\u001B[0mTERM_CRITERIA_EPS\u001B[0m \u001B[1;33m+\u001B[0m \u001B[0mcv2\u001B[0m\u001B[1;33m.\u001B[0m\u001B[0mTERM_CRITERIA_MAX_ITER\u001B[0m\u001B[1;33m,\u001B[0m \u001B[1;36m10\u001B[0m\u001B[1;33m,\u001B[0m \u001B[1;36m1.0\u001B[0m\u001B[1;33m)\u001B[0m  \u001B[1;31m#알고리즘을 멈출조건 (EPS : 0.1=정확도, ITER: 10 = 반복횟수)\u001B[0m\u001B[1;33m\u001B[0m\u001B[0m\n\u001B[0;32m     21\u001B[0m     \u001B[0mattempts\u001B[0m \u001B[1;33m=\u001B[0m \u001B[1;36m7\u001B[0m  \u001B[1;31m#시도횟수. 횟수의 결과중 최적의 밀집도가 결과로 나옴\u001B[0m\u001B[1;33m\u001B[0m\u001B[0m\n\u001B[1;32m---> 22\u001B[1;33m     \u001B[0m_\u001B[0m\u001B[1;33m,\u001B[0m \u001B[0mlabel\u001B[0m\u001B[1;33m,\u001B[0m \u001B[0m_\u001B[0m \u001B[1;33m=\u001B[0m \u001B[0mcv2\u001B[0m\u001B[1;33m.\u001B[0m\u001B[0mkmeans\u001B[0m\u001B[1;33m(\u001B[0m\u001B[0mvectorized\u001B[0m\u001B[1;33m,\u001B[0m \u001B[0mK\u001B[0m\u001B[1;33m,\u001B[0m \u001B[1;32mNone\u001B[0m\u001B[1;33m,\u001B[0m \u001B[0mcriteria\u001B[0m\u001B[1;33m,\u001B[0m \u001B[0mattempts\u001B[0m\u001B[1;33m,\u001B[0m \u001B[0mcv2\u001B[0m\u001B[1;33m.\u001B[0m\u001B[0mKMEANS_PP_CENTERS\u001B[0m\u001B[1;33m)\u001B[0m\u001B[1;33m\u001B[0m\u001B[0m\n\u001B[0m\u001B[0;32m     23\u001B[0m \u001B[1;33m\u001B[0m\u001B[0m\n\u001B[0;32m     24\u001B[0m     \u001B[0msample_hash_resize\u001B[0m \u001B[1;33m=\u001B[0m \u001B[0msample_img\u001B[0m\u001B[1;33m\u001B[0m\u001B[0m\n",
      "\u001B[1;31mKeyboardInterrupt\u001B[0m: "
     ]
    }
   ],
   "source": [
    "current_directory = './model_images/DA4649_rotate/train/1_normal'\n",
    "destination_directory = './model_images/DA4649_rotate/train/normal_center'\n",
    "img_list = os.listdir(current_directory)\n",
    "total = len(img_list)\n",
    "labeled = 0\n",
    "center_count = 0\n",
    "line_count = 0\n",
    "normal_count = 0\n",
    "for i in img_list:\n",
    "    st = time.time()\n",
    "    img = cv2.imread(f'{current_directory}/{i}')\n",
    "    distance,_,_,_ = find_colorAlignment(img, 7, show_one_label=True, blur_count=6, hash_true_condition=0.7)\n",
    "    print(time.time()-st)"
   ],
   "metadata": {
    "collapsed": false,
    "pycharm": {
     "name": "#%%\n"
    }
   }
  },
  {
   "cell_type": "code",
   "execution_count": null,
   "outputs": [],
   "source": [],
   "metadata": {
    "collapsed": false,
    "pycharm": {
     "name": "#%%\n"
    }
   }
  }
 ],
 "metadata": {
  "kernelspec": {
   "display_name": "Python 3",
   "language": "python",
   "name": "python3"
  },
  "language_info": {
   "codemirror_mode": {
    "name": "ipython",
    "version": 2
   },
   "file_extension": ".py",
   "mimetype": "text/x-python",
   "name": "python",
   "nbconvert_exporter": "python",
   "pygments_lexer": "ipython2",
   "version": "2.7.6"
  }
 },
 "nbformat": 4,
 "nbformat_minor": 0
}