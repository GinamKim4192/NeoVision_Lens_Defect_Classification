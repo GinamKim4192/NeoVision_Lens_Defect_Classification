{
 "cells": [
  {
   "cell_type": "code",
   "execution_count": 11,
   "outputs": [],
   "source": [
    "import matplotlib.pyplot as plt\n",
    "import numpy as np\n",
    "import itertools\n",
    "from tqdm import tqdm\n",
    "import cv2\n",
    "import os\n",
    "from tensorflow.keras.utils import to_categorical\n",
    "from tensorflow.keras.models import load_model\n",
    "import tensorflow as tf\n",
    "from sklearn.metrics import confusion_matrix"
   ],
   "metadata": {
    "collapsed": false,
    "pycharm": {
     "name": "#%%\n"
    }
   }
  },
  {
   "cell_type": "code",
   "execution_count": 12,
   "metadata": {
    "collapsed": true
   },
   "outputs": [],
   "source": [
    "def plot_confusion_matrix(cm, classes, normalize=False, title='Confusion matrix', cmap=plt.cm.Blues):\n",
    "    \"\"\"\n",
    "    This function prints and plots the confusion matrix.\n",
    "    Normalization can be applied by setting 'normalize=True'.\n",
    "    \"\"\"\n",
    "    plt.figure(figsize=(10, 10))\n",
    "    plt.imshow(cm, interpolation='nearest', cmap=cmap)\n",
    "    plt.title(title)\n",
    "    plt.colorbar()\n",
    "    tick_marks=np.arange(len(classes))\n",
    "    plt.xticks(tick_marks, classes, rotation=45)\n",
    "    plt.yticks(tick_marks, classes)\n",
    "\n",
    "    if normalize:\n",
    "        cm = cm.astype('float') / cm.sum(axis=1)[:, np.newaxis]\n",
    "    print(cm)\n",
    "    thresh = cm.max() / 2.\n",
    "    for i, j in itertools.product(range(cm.shape[0]), range(cm.shape[1])):\n",
    "        plt.text(j, i, cm[i, j], horizontalalignment=\"center\", color=\"white\" if cm[i, j] > thresh else \"black\")\n",
    "\n",
    "\n",
    "    plt.tight_layout()\n",
    "    plt.ylabel('True label')\n",
    "    plt.xlabel('Predicted label')\n",
    "\n"
   ]
  },
  {
   "cell_type": "code",
   "execution_count": 13,
   "outputs": [],
   "source": [
    "model = load_model('../predict_models/DA4649_defect.h5')"
   ],
   "metadata": {
    "collapsed": false,
    "pycharm": {
     "name": "#%%\n"
    }
   }
  },
  {
   "cell_type": "code",
   "execution_count": 14,
   "outputs": [
    {
     "name": "stderr",
     "output_type": "stream",
     "text": [
      "0it [00:00, ?it/s]\n",
      "100%|██████████| 52/52 [00:01<00:00, 33.58it/s]\n",
      "100%|██████████| 50/50 [00:01<00:00, 34.07it/s]\n",
      "100%|██████████| 52/52 [00:01<00:00, 34.44it/s]\n",
      "100%|██████████| 52/52 [00:01<00:00, 38.51it/s]\n",
      "100%|██████████| 52/52 [00:01<00:00, 35.82it/s]\n"
     ]
    }
   ],
   "source": [
    "def load_img(dir, img_name):\n",
    "    img = cv2.imread(f'{dir}/{img_name}')\n",
    "    img_resize = cv2.resize(img, dsize=(400, 400))\n",
    "    img_hsv = cv2.cvtColor(img_resize, cv2.COLOR_BGR2HSV)\n",
    "    img_hsv = np.asarray(img_hsv, dtype = np.float32)\n",
    "    img_scaled = img_hsv.copy()\n",
    "    img_scaled[:, :, 0] = img_hsv[:, :, 0] / 180.\n",
    "    img_scaled[:, :, 1] = img_hsv[:, :, 1] / 255.\n",
    "    img_scaled[:, :, 2] = img_hsv[:, :, 2] / 255.\n",
    "    return img_scaled\n",
    "\n",
    "def create_gen(lens_class, y_value):\n",
    "    # # train 이미지 배열 및 target값 만들기\n",
    "    img_test_gen = [load_img(f'./model_images/sample_img/{lens_class}', i)\n",
    "                    for i in tqdm(os.listdir(f'./model_images/sample_img/{lens_class}'))]\n",
    "    test_y_arr = np.full(len(os.listdir(f'./model_images/sample_img/{lens_class}')), y_value)\n",
    "\n",
    "    # test 이미지 배열 및 target값 만들기\n",
    "    # img_test_gen = [load_img(f'./model_images/DA4649_rotate/test/{lens_class}', i)\n",
    "    #                 for i in tqdm(os.listdir(f'./model_images/DA4649_rotate/test/{lens_class}'))]\n",
    "    # test_y_arr = np.full(len(os.listdir(f'./model_images/DA4649_rotate/test/{lens_class}')), y_value)\n",
    "    return img_test_gen, test_y_arr\n",
    "\n",
    "train_normal, train_normal_y= create_gen('normal', 0)\n",
    "train_center, train_center_y= create_gen('center', 1)\n",
    "train_colorpoor, train_colorpoor_y= create_gen('colorpoor', 2)\n",
    "train_dotmissing, train_dotmissing_y = create_gen('dotmissing', 3)\n",
    "train_inkcut, train_inkcut_y= create_gen('inkcut', 4)\n",
    "train_line, train_line_y= create_gen('line', 5)\n",
    "\n",
    "train_X = np.asarray(train_normal + train_center + train_colorpoor + train_dotmissing + train_inkcut + train_line)\n",
    "\n",
    "train_Y = to_categorical(np.concatenate((train_normal_y, train_center_y, train_colorpoor_y, train_dotmissing_y, train_inkcut_y, train_line_y), axis=0),6)"
   ],
   "metadata": {
    "collapsed": false,
    "pycharm": {
     "name": "#%%\n"
    }
   }
  },
  {
   "cell_type": "code",
   "execution_count": 15,
   "outputs": [],
   "source": [
    "Y_pred = model.predict(train_X)\n",
    "Y_pred_classes = np.argmax(Y_pred, axis = 1)\n",
    "Y_true = np.argmax(train_Y, axis = 1)"
   ],
   "metadata": {
    "collapsed": false,
    "pycharm": {
     "name": "#%%\n"
    }
   }
  },
  {
   "cell_type": "code",
   "execution_count": 16,
   "outputs": [
    {
     "name": "stdout",
     "output_type": "stream",
     "text": [
      "[[52  0  0  0  0]\n",
      " [ 0 50  0  0  0]\n",
      " [ 0  0 52  0  0]\n",
      " [ 0  0  0 52  0]\n",
      " [ 8  0 13 23  8]]\n"
     ]
    },
    {
     "data": {
      "text/plain": "<Figure size 720x720 with 2 Axes>",
      "image/png": "[encoded data removed]"
     },
     "metadata": {
      "needs_background": "light"
     },
     "output_type": "display_data"
    }
   ],
   "source": [
    "confusion_mtx = confusion_matrix(Y_true, Y_pred_classes)\n",
    "plot_confusion_matrix(confusion_mtx, classes = range(6))"
   ],
   "metadata": {
    "collapsed": false,
    "pycharm": {
     "name": "#%%\n"
    }
   }
  },
  {
   "cell_type": "markdown",
   "source": [],
   "metadata": {
    "collapsed": false
   }
  }
 ],
 "metadata": {
  "kernelspec": {
   "display_name": "Python 3",
   "language": "python",
   "name": "python3"
  },
  "language_info": {
   "codemirror_mode": {
    "name": "ipython",
    "version": 2
   },
   "file_extension": ".py",
   "mimetype": "text/x-python",
   "name": "python",
   "nbconvert_exporter": "python",
   "pygments_lexer": "ipython2",
   "version": "2.7.6"
  }
 },
 "nbformat": 4,
 "nbformat_minor": 0
}