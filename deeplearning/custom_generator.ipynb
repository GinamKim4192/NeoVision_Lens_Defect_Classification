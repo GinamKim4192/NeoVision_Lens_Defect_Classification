{
 "cells": [
  {
   "cell_type": "code",
   "execution_count": 3,
   "outputs": [],
   "source": [
    "import cv2\n",
    "import numpy as np\n",
    "import os\n",
    "from itertools import chain\n",
    "from tensorflow.keras.utils import Sequence\n",
    "from tensorflow.keras.models import load_model"
   ],
   "metadata": {
    "collapsed": false,
    "pycharm": {
     "name": "#%%\n"
    }
   }
  },
  {
   "cell_type": "code",
   "execution_count": 4,
   "outputs": [],
   "source": [
    "class Custom_generator(Sequence):\n",
    "    def __init__(self, src_path, input_shape, class_num, target, batch_size, is_train=False):\n",
    "        folder_list = os.listdir(src_path)\n",
    "        self.src_path = src_path\n",
    "        self.is_train = is_train\n",
    "        self.batch_size = batch_size\n",
    "        self.input_shape = input_shape\n",
    "        self.x, self.y = [], []\n",
    "\n",
    "        # with open(\"./datasets/wnids.txt\", \"r\") as f:\n",
    "        #     cls_list = f.readlines()\n",
    "        # cls_list = [cls_object.replace(\"\\n\", \"\") for cls_object in cls_list]\n",
    "\n",
    "        # for _, folder in enumerate(folder_list):\n",
    "        #     # imgs = glob.glob(src_path+folder+\"/*.JPEG\")\n",
    "        #     imgs = os.listdir(src_path)\n",
    "        #     # cls = cls_list.index(folder)\n",
    "        #     self.x += imgs\n",
    "        #     self.y += list(np.full(((len(imgs)), class_num), fill_value=target))\n",
    "        imgs = os.listdir(src_path)\n",
    "        self.x += imgs\n",
    "        self.y += list(np.full(((len(imgs)), class_num), fill_value=target))\n",
    "\n",
    "        self.on_epoch_end()\n",
    "\n",
    "    def on_epoch_end(self):\n",
    "        self.index = np.arange(len(self.x))\n",
    "        if self.is_train:\n",
    "            np.random.shuffle(self.index)\n",
    "\n",
    "    def __len__(self):\n",
    "        return round(len(self.x) / self.batch_size)\n",
    "\n",
    "    def __getitem__(self, idx):\n",
    "        batch_x, batch_y = [], []\n",
    "        batch_index = self.index[idx*self.batch_size:(idx+1)*self.batch_size]\n",
    "        for i in batch_index:\n",
    "            batch_x.append(self.x[i])\n",
    "            batch_y.append(self.y[i])\n",
    "        out_x, out_y = self.__data_gen(batch_x, batch_y)\n",
    "        return out_x, out_y\n",
    "\n",
    "    def __data_gen(self, x, y):\n",
    "        input_x = np.zeros((self.batch_size, self.input_shape[0], self.input_shape[1], self.input_shape[2]), dtype=np.float32)\n",
    "        # copy_input_x = np.array([])\n",
    "        input_y = []\n",
    "        for idx in range(len(x)):\n",
    "            img = cv2.imread(f'{self.src_path}/{x[idx]}')\n",
    "            input_x[idx] = cv2.resize(img, (self.input_shape[0], self.input_shape[1]))\n",
    "            input_x[idx] = cv2.cvtColor(input_x[idx], cv2.COLOR_BGR2HSV)\n",
    "            input_x[idx] = np.asarray(input_x[idx], np.float32)\n",
    "            # copy_input_x[idx] = input_x[idx].copy()\n",
    "            # input_x[idx][:,:,0] = copy_input_x[:,:,0] / 180.\n",
    "            # input_x[idx][:,:,1] = copy_input_x[:,:,1] / 255.\n",
    "            # input_x[idx][:,:,2] = copy_input_x[:,:,2] / 255.\n",
    "\n",
    "            input_x[idx][:,:,0] = input_x[idx][:,:,0] / 180.\n",
    "            input_x[idx][:,:,1] = input_x[idx][:,:,1] / 255.\n",
    "            input_x[idx][:,:,2] = input_x[idx][:,:,2] / 255.\n",
    "\n",
    "        input_y = np.asarray(y, dtype=np.float32)\n",
    "        return input_x, input_y"
   ],
   "metadata": {
    "collapsed": false,
    "pycharm": {
     "name": "#%%\n"
    }
   }
  },
  {
   "cell_type": "code",
   "execution_count": 5,
   "outputs": [],
   "source": [
    "custom_gen_normal = Custom_generator(src_path='./model_images/DA4649_rotate/train/1_normal',\n",
    "                                     input_shape=(400, 400, 3), target = np.array([0, 0, 0, 0, 0, 1], dtype=np.float32), class_num = 6, batch_size=32, is_train=True)\n",
    "custom_gen_center = Custom_generator('./model_images/DA4649_rotate/train/2_center_rotate_per30',\n",
    "                                     (400, 400, 3), target = np.array([0, 0, 0, 0, 1, 0], dtype=np.float32), class_num = 6, batch_size=32, is_train=True)\n",
    "custom_gen_colorpoor = Custom_generator('./model_images/DA4649_rotate/train/3_colorpoor_rotate_per5',\n",
    "                                        (400, 400, 3), target = np.array([0, 0, 0, 1, 0, 0], dtype=np.float32), class_num = 6, batch_size=32, is_train=True)\n",
    "custom_gen_dotmissing = Custom_generator('./model_images/DA4649_rotate/train/4_dotmissing_rotate_per5',\n",
    "                                         (400, 400, 3), target = np.array([0, 0, 1, 0, 0, 0], dtype=np.float32), class_num = 6, batch_size=32, is_train=True)\n",
    "custom_gen_inkcut = Custom_generator('./model_images/DA4649_rotate/train/5_inkcut_rotate_per15',\n",
    "                                     (400, 400, 3), target = np.array([0, 1, 0, 0, 0, 0], dtype=np.float32), class_num = 6, batch_size=32, is_train=True)\n",
    "custom_gen_line = Custom_generator('./model_images/DA4649_rotate/train/6_line_rotate_per60',\n",
    "                                   (400, 400, 3), target = np.array([1, 0, 0, 0, 0, 0], dtype=np.float32), class_num = 6, batch_size=32, is_train=True)\n",
    "\n",
    "train_gen_x = chain(custom_gen_normal, custom_gen_center, custom_gen_colorpoor, custom_gen_dotmissing, custom_gen_inkcut, custom_gen_line)\n",
    "\n",
    "normal_y = np.full((len(os.listdir('./model_images/DA4649_rotate/train/1_normal')), 6), fill_value= np.array([0, 0, 0, 0, 0, 1]))\n",
    "center_y = np.full((len(os.listdir('./model_images/DA4649_rotate/train/2_center_rotate_per30')), 6), fill_value= np.array([0, 0, 0, 0, 1, 0]))\n",
    "colorpoor_y = np.full((len(os.listdir('./model_images/DA4649_rotate/train/3_colorpoor_rotate_per5')), 6), fill_value= np.array([0, 0, 0, 1, 0, 0]))\n",
    "dotmissing_y = np.full((len(os.listdir('./model_images/DA4649_rotate/train/4_dotmissing_rotate_per5')), 6), fill_value= np.array([0, 0, 1, 0, 0, 0]))\n",
    "inkcut_y = np.full((len(os.listdir('./model_images/DA4649_rotate/train/5_inkcut_rotate_per15')), 6), fill_value= np.array([0, 1, 0, 0, 0, 0]))\n",
    "line_y = np.full((len(os.listdir('./model_images/DA4649_rotate/train/6_line_rotate_per60')), 6), fill_value= np.array([1, 0, 0, 0, 0, 0]))"
   ],
   "metadata": {
    "collapsed": false,
    "pycharm": {
     "name": "#%%\n"
    }
   }
  },
  {
   "cell_type": "code",
   "execution_count": 6,
   "outputs": [],
   "source": [
    "# model = load_model('../predict_models/DA4649_defect.h5')"
   ],
   "metadata": {
    "collapsed": false,
    "pycharm": {
     "name": "#%%\n"
    }
   }
  },
  {
   "cell_type": "code",
   "execution_count": 7,
   "outputs": [],
   "source": [
    "from tensorflow.keras.layers import Input, Conv2D, MaxPooling2D, BatchNormalization, Dense, Flatten\n",
    "from tensorflow.keras.models import Model\n",
    "\n",
    "def create_poweradeNet(shape, classes):\n",
    "    input_ = Input(shape=shape)\n",
    "\n",
    "    before_layer = Conv2D(filters=64, kernel_size=(3, 3), strides=1, activation='relu')(input_)\n",
    "    before_layer = Conv2D(filters=64, kernel_size=(5, 5), strides=1, activation='relu')(before_layer)\n",
    "    before_layer = MaxPooling2D(pool_size=2)(before_layer)\n",
    "    before_layer = BatchNormalization()(before_layer)\n",
    "\n",
    "    flatten_layer = Flatten()(before_layer)\n",
    "    # Fully Connection\n",
    "    fc1 = Dense(units=1, activation='relu')(flatten_layer)\n",
    "    fc2 = Dense(units=1, activation='relu')(fc1)\n",
    "    output = Dense(units=classes, activation='softmax')(fc2)\n",
    "    model = Model(inputs=[input_], outputs=[output])\n",
    "\n",
    "    return model"
   ],
   "metadata": {
    "collapsed": false,
    "pycharm": {
     "name": "#%%\n"
    }
   }
  },
  {
   "cell_type": "code",
   "execution_count": 10,
   "outputs": [
    {
     "name": "stdout",
     "output_type": "stream",
     "text": [
      "    367/Unknown - 142s 365ms/step - loss: 1.4879"
     ]
    },
    {
     "ename": "InvalidArgumentError",
     "evalue": " logits and labels must be broadcastable: logits_size=[32,6] labels_size=[27,6]\n\t [[node categorical_crossentropy/softmax_cross_entropy_with_logits (defined at \\AppData\\Local\\Temp\\ipykernel_10812\\301034582.py:3) ]] [Op:__inference_train_function_1420]\n\nFunction call stack:\ntrain_function\n",
     "output_type": "error",
     "traceback": [
      "\u001B[1;31m---------------------------------------------------------------------------\u001B[0m",
      "\u001B[1;31mInvalidArgumentError\u001B[0m                      Traceback (most recent call last)",
      "\u001B[1;32m~\\AppData\\Local\\Temp\\ipykernel_10812\\301034582.py\u001B[0m in \u001B[0;36m<module>\u001B[1;34m\u001B[0m\n\u001B[0;32m      1\u001B[0m \u001B[0mmodel\u001B[0m \u001B[1;33m=\u001B[0m \u001B[0mcreate_poweradeNet\u001B[0m\u001B[1;33m(\u001B[0m\u001B[0mshape\u001B[0m\u001B[1;33m=\u001B[0m\u001B[1;33m(\u001B[0m\u001B[1;36m400\u001B[0m\u001B[1;33m,\u001B[0m \u001B[1;36m400\u001B[0m\u001B[1;33m,\u001B[0m \u001B[1;36m3\u001B[0m\u001B[1;33m)\u001B[0m\u001B[1;33m,\u001B[0m \u001B[0mclasses\u001B[0m\u001B[1;33m=\u001B[0m\u001B[1;36m6\u001B[0m\u001B[1;33m)\u001B[0m\u001B[1;33m\u001B[0m\u001B[0m\n\u001B[0;32m      2\u001B[0m \u001B[0mmodel\u001B[0m\u001B[1;33m.\u001B[0m\u001B[0mcompile\u001B[0m\u001B[1;33m(\u001B[0m\u001B[0mloss\u001B[0m\u001B[1;33m=\u001B[0m\u001B[1;34m'categorical_crossentropy'\u001B[0m\u001B[1;33m)\u001B[0m\u001B[1;33m\u001B[0m\u001B[0m\n\u001B[1;32m----> 3\u001B[1;33m \u001B[0mmodel\u001B[0m\u001B[1;33m.\u001B[0m\u001B[0mfit\u001B[0m\u001B[1;33m(\u001B[0m\u001B[0mtrain_gen_x\u001B[0m\u001B[1;33m,\u001B[0m \u001B[0mbatch_size\u001B[0m\u001B[1;33m=\u001B[0m\u001B[1;36m32\u001B[0m\u001B[1;33m,\u001B[0m \u001B[0mepochs\u001B[0m\u001B[1;33m=\u001B[0m\u001B[1;36m1\u001B[0m\u001B[1;33m)\u001B[0m\u001B[1;33m\u001B[0m\u001B[0m\n\u001B[0m",
      "\u001B[1;32m~\\AppData\\Roaming\\Python\\Python37\\site-packages\\tensorflow\\python\\keras\\engine\\training.py\u001B[0m in \u001B[0;36mfit\u001B[1;34m(self, x, y, batch_size, epochs, verbose, callbacks, validation_split, validation_data, shuffle, class_weight, sample_weight, initial_epoch, steps_per_epoch, validation_steps, validation_batch_size, validation_freq, max_queue_size, workers, use_multiprocessing)\u001B[0m\n\u001B[0;32m   1181\u001B[0m                 _r=1):\n\u001B[0;32m   1182\u001B[0m               \u001B[0mcallbacks\u001B[0m\u001B[1;33m.\u001B[0m\u001B[0mon_train_batch_begin\u001B[0m\u001B[1;33m(\u001B[0m\u001B[0mstep\u001B[0m\u001B[1;33m)\u001B[0m\u001B[1;33m\u001B[0m\u001B[0m\n\u001B[1;32m-> 1183\u001B[1;33m               \u001B[0mtmp_logs\u001B[0m \u001B[1;33m=\u001B[0m \u001B[0mself\u001B[0m\u001B[1;33m.\u001B[0m\u001B[0mtrain_function\u001B[0m\u001B[1;33m(\u001B[0m\u001B[0miterator\u001B[0m\u001B[1;33m)\u001B[0m\u001B[1;33m\u001B[0m\u001B[0m\n\u001B[0m\u001B[0;32m   1184\u001B[0m               \u001B[1;32mif\u001B[0m \u001B[0mdata_handler\u001B[0m\u001B[1;33m.\u001B[0m\u001B[0mshould_sync\u001B[0m\u001B[1;33m:\u001B[0m\u001B[1;33m\u001B[0m\u001B[0m\n\u001B[0;32m   1185\u001B[0m                 \u001B[0mcontext\u001B[0m\u001B[1;33m.\u001B[0m\u001B[0masync_wait\u001B[0m\u001B[1;33m(\u001B[0m\u001B[1;33m)\u001B[0m\u001B[1;33m\u001B[0m\u001B[0m\n",
      "\u001B[1;32m~\\AppData\\Roaming\\Python\\Python37\\site-packages\\tensorflow\\python\\eager\\def_function.py\u001B[0m in \u001B[0;36m__call__\u001B[1;34m(self, *args, **kwds)\u001B[0m\n\u001B[0;32m    887\u001B[0m \u001B[1;33m\u001B[0m\u001B[0m\n\u001B[0;32m    888\u001B[0m       \u001B[1;32mwith\u001B[0m \u001B[0mOptionalXlaContext\u001B[0m\u001B[1;33m(\u001B[0m\u001B[0mself\u001B[0m\u001B[1;33m.\u001B[0m\u001B[0m_jit_compile\u001B[0m\u001B[1;33m)\u001B[0m\u001B[1;33m:\u001B[0m\u001B[1;33m\u001B[0m\u001B[0m\n\u001B[1;32m--> 889\u001B[1;33m         \u001B[0mresult\u001B[0m \u001B[1;33m=\u001B[0m \u001B[0mself\u001B[0m\u001B[1;33m.\u001B[0m\u001B[0m_call\u001B[0m\u001B[1;33m(\u001B[0m\u001B[1;33m*\u001B[0m\u001B[0margs\u001B[0m\u001B[1;33m,\u001B[0m \u001B[1;33m**\u001B[0m\u001B[0mkwds\u001B[0m\u001B[1;33m)\u001B[0m\u001B[1;33m\u001B[0m\u001B[0m\n\u001B[0m\u001B[0;32m    890\u001B[0m \u001B[1;33m\u001B[0m\u001B[0m\n\u001B[0;32m    891\u001B[0m       \u001B[0mnew_tracing_count\u001B[0m \u001B[1;33m=\u001B[0m \u001B[0mself\u001B[0m\u001B[1;33m.\u001B[0m\u001B[0mexperimental_get_tracing_count\u001B[0m\u001B[1;33m(\u001B[0m\u001B[1;33m)\u001B[0m\u001B[1;33m\u001B[0m\u001B[0m\n",
      "\u001B[1;32m~\\AppData\\Roaming\\Python\\Python37\\site-packages\\tensorflow\\python\\eager\\def_function.py\u001B[0m in \u001B[0;36m_call\u001B[1;34m(self, *args, **kwds)\u001B[0m\n\u001B[0;32m    915\u001B[0m       \u001B[1;31m# In this case we have created variables on the first call, so we run the\u001B[0m\u001B[1;33m\u001B[0m\u001B[1;33m\u001B[0m\u001B[0m\n\u001B[0;32m    916\u001B[0m       \u001B[1;31m# defunned version which is guaranteed to never create variables.\u001B[0m\u001B[1;33m\u001B[0m\u001B[1;33m\u001B[0m\u001B[0m\n\u001B[1;32m--> 917\u001B[1;33m       \u001B[1;32mreturn\u001B[0m \u001B[0mself\u001B[0m\u001B[1;33m.\u001B[0m\u001B[0m_stateless_fn\u001B[0m\u001B[1;33m(\u001B[0m\u001B[1;33m*\u001B[0m\u001B[0margs\u001B[0m\u001B[1;33m,\u001B[0m \u001B[1;33m**\u001B[0m\u001B[0mkwds\u001B[0m\u001B[1;33m)\u001B[0m  \u001B[1;31m# pylint: disable=not-callable\u001B[0m\u001B[1;33m\u001B[0m\u001B[0m\n\u001B[0m\u001B[0;32m    918\u001B[0m     \u001B[1;32melif\u001B[0m \u001B[0mself\u001B[0m\u001B[1;33m.\u001B[0m\u001B[0m_stateful_fn\u001B[0m \u001B[1;32mis\u001B[0m \u001B[1;32mnot\u001B[0m \u001B[1;32mNone\u001B[0m\u001B[1;33m:\u001B[0m\u001B[1;33m\u001B[0m\u001B[0m\n\u001B[0;32m    919\u001B[0m       \u001B[1;31m# Release the lock early so that multiple threads can perform the call\u001B[0m\u001B[1;33m\u001B[0m\u001B[1;33m\u001B[0m\u001B[0m\n",
      "\u001B[1;32m~\\AppData\\Roaming\\Python\\Python37\\site-packages\\tensorflow\\python\\eager\\function.py\u001B[0m in \u001B[0;36m__call__\u001B[1;34m(self, *args, **kwargs)\u001B[0m\n\u001B[0;32m   3022\u001B[0m        filtered_flat_args) = self._maybe_define_function(args, kwargs)\n\u001B[0;32m   3023\u001B[0m     return graph_function._call_flat(\n\u001B[1;32m-> 3024\u001B[1;33m         filtered_flat_args, captured_inputs=graph_function.captured_inputs)  # pylint: disable=protected-access\n\u001B[0m\u001B[0;32m   3025\u001B[0m \u001B[1;33m\u001B[0m\u001B[0m\n\u001B[0;32m   3026\u001B[0m   \u001B[1;33m@\u001B[0m\u001B[0mproperty\u001B[0m\u001B[1;33m\u001B[0m\u001B[0m\n",
      "\u001B[1;32m~\\AppData\\Roaming\\Python\\Python37\\site-packages\\tensorflow\\python\\eager\\function.py\u001B[0m in \u001B[0;36m_call_flat\u001B[1;34m(self, args, captured_inputs, cancellation_manager)\u001B[0m\n\u001B[0;32m   1959\u001B[0m       \u001B[1;31m# No tape is watching; skip to running the function.\u001B[0m\u001B[1;33m\u001B[0m\u001B[1;33m\u001B[0m\u001B[0m\n\u001B[0;32m   1960\u001B[0m       return self._build_call_outputs(self._inference_function.call(\n\u001B[1;32m-> 1961\u001B[1;33m           ctx, args, cancellation_manager=cancellation_manager))\n\u001B[0m\u001B[0;32m   1962\u001B[0m     forward_backward = self._select_forward_and_backward_functions(\n\u001B[0;32m   1963\u001B[0m         \u001B[0margs\u001B[0m\u001B[1;33m,\u001B[0m\u001B[1;33m\u001B[0m\u001B[0m\n",
      "\u001B[1;32m~\\AppData\\Roaming\\Python\\Python37\\site-packages\\tensorflow\\python\\eager\\function.py\u001B[0m in \u001B[0;36mcall\u001B[1;34m(self, ctx, args, cancellation_manager)\u001B[0m\n\u001B[0;32m    594\u001B[0m               \u001B[0minputs\u001B[0m\u001B[1;33m=\u001B[0m\u001B[0margs\u001B[0m\u001B[1;33m,\u001B[0m\u001B[1;33m\u001B[0m\u001B[0m\n\u001B[0;32m    595\u001B[0m               \u001B[0mattrs\u001B[0m\u001B[1;33m=\u001B[0m\u001B[0mattrs\u001B[0m\u001B[1;33m,\u001B[0m\u001B[1;33m\u001B[0m\u001B[0m\n\u001B[1;32m--> 596\u001B[1;33m               ctx=ctx)\n\u001B[0m\u001B[0;32m    597\u001B[0m         \u001B[1;32melse\u001B[0m\u001B[1;33m:\u001B[0m\u001B[1;33m\u001B[0m\u001B[0m\n\u001B[0;32m    598\u001B[0m           outputs = execute.execute_with_cancellation(\n",
      "\u001B[1;32m~\\AppData\\Roaming\\Python\\Python37\\site-packages\\tensorflow\\python\\eager\\execute.py\u001B[0m in \u001B[0;36mquick_execute\u001B[1;34m(op_name, num_outputs, inputs, attrs, ctx, name)\u001B[0m\n\u001B[0;32m     58\u001B[0m     \u001B[0mctx\u001B[0m\u001B[1;33m.\u001B[0m\u001B[0mensure_initialized\u001B[0m\u001B[1;33m(\u001B[0m\u001B[1;33m)\u001B[0m\u001B[1;33m\u001B[0m\u001B[0m\n\u001B[0;32m     59\u001B[0m     tensors = pywrap_tfe.TFE_Py_Execute(ctx._handle, device_name, op_name,\n\u001B[1;32m---> 60\u001B[1;33m                                         inputs, attrs, num_outputs)\n\u001B[0m\u001B[0;32m     61\u001B[0m   \u001B[1;32mexcept\u001B[0m \u001B[0mcore\u001B[0m\u001B[1;33m.\u001B[0m\u001B[0m_NotOkStatusException\u001B[0m \u001B[1;32mas\u001B[0m \u001B[0me\u001B[0m\u001B[1;33m:\u001B[0m\u001B[1;33m\u001B[0m\u001B[0m\n\u001B[0;32m     62\u001B[0m     \u001B[1;32mif\u001B[0m \u001B[0mname\u001B[0m \u001B[1;32mis\u001B[0m \u001B[1;32mnot\u001B[0m \u001B[1;32mNone\u001B[0m\u001B[1;33m:\u001B[0m\u001B[1;33m\u001B[0m\u001B[0m\n",
      "\u001B[1;31mInvalidArgumentError\u001B[0m:  logits and labels must be broadcastable: logits_size=[32,6] labels_size=[27,6]\n\t [[node categorical_crossentropy/softmax_cross_entropy_with_logits (defined at \\AppData\\Local\\Temp\\ipykernel_10812\\301034582.py:3) ]] [Op:__inference_train_function_1420]\n\nFunction call stack:\ntrain_function\n"
     ]
    }
   ],
   "source": [
    "model = create_poweradeNet(shape=(400, 400, 3), classes=6)\n",
    "model.compile(loss='categorical_crossentropy')\n",
    "model.fit(train_gen_x, batch_size=32, epochs=1)"
   ],
   "metadata": {
    "collapsed": false,
    "pycharm": {
     "name": "#%%\n"
    }
   }
  },
  {
   "cell_type": "code",
   "execution_count": null,
   "outputs": [],
   "source": [],
   "metadata": {
    "collapsed": false,
    "pycharm": {
     "name": "#%%\n"
    }
   }
  }
 ],
 "metadata": {
  "kernelspec": {
   "display_name": "Python 3",
   "language": "python",
   "name": "python3"
  },
  "language_info": {
   "codemirror_mode": {
    "name": "ipython",
    "version": 2
   },
   "file_extension": ".py",
   "mimetype": "text/x-python",
   "name": "python",
   "nbconvert_exporter": "python",
   "pygments_lexer": "ipython2",
   "version": "2.7.6"
  }
 },
 "nbformat": 4,
 "nbformat_minor": 0
}